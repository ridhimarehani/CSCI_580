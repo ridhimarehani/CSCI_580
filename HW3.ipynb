{
 "cells": [
  {
   "cell_type": "code",
   "execution_count": 1,
   "metadata": {},
   "outputs": [
    {
     "data": {
      "image/png": "[encoded data removed]",
      "text/plain": [
       "<PIL.Image.Image image mode=RGB size=256x256 at 0x7FC0886F5580>"
      ]
     },
     "metadata": {},
     "output_type": "display_data"
    }
   ],
   "source": [
    "from PIL import Image\n",
    "import json\n",
    "import math\n",
    "# from IPython.display import display\n",
    "\n",
    "\n",
    "with open('./Teapot.json') as json_file:\n",
    "    data = json.load(json_file)\n",
    "w, h = 256, 256\n",
    "img = Image.new('RGB',(w, h), (127,112,96))\n",
    "z_buffer = [[math.inf] * 256 for i in range(256)]\n",
    "data1 = data.get('data')\n",
    "# print('dataaaa>>',data)\n",
    "# print('dataaa0>>>',data1[0])\n",
    "for dat in data1:\n",
    "  # dat = data1[0]\n",
    "  xmin = math.floor(min(dat['v0']['v'][0],dat['v1']['v'][0],dat['v2']['v'][0]))\n",
    "  xmax = math.ceil(max(dat['v0']['v'][0],dat['v1']['v'][0],dat['v2']['v'][0]))\n",
    "  ymin = math.floor(min(dat['v0']['v'][1],dat['v1']['v'][1],dat['v2']['v'][1]))\n",
    "  ymax = math.ceil(max(dat['v0']['v'][1],dat['v1']['v'][1],dat['v2']['v'][1]))\n",
    "  # print('coords>>',xmin,xmax,ymin,ymax)\n",
    "\n",
    "  nx = dat['v0']['n'][0]\n",
    "  ny = dat['v0']['n'][1]\n",
    "  nz = dat['v0']['n'][2]\n",
    "  dotp = float(0.707 * nx) + float(0.5 * ny) + float(0.5 * nz)\n",
    "\n",
    "  if dotp < 0.0:\n",
    "    dotp = -dotp\n",
    "  elif dotp > 1.0:\n",
    "    dotp = 1.0\n",
    "  \n",
    "  rgb = [float(0.95 * dotp), float(0.65 * dotp), float(0.88 * dotp)]\n",
    "  col = (int(rgb[0] * 255) ,int(rgb[1] * 255), int(rgb[2] * 255))\n",
    "\n",
    "  for y in range(ymin,ymax):\n",
    "    for x in range(xmin, xmax):\n",
    "      x0 = dat['v0']['v'][0]\n",
    "      x1 = dat['v1']['v'][0]\n",
    "      x2 = dat['v2']['v'][0]\n",
    "      y0 = dat['v0']['v'][1]\n",
    "      y1 = dat['v1']['v'][1]\n",
    "      y2 = dat['v2']['v'][1]\n",
    "      f01 = (y0-y1)*x + (x1-x0)*y + x0*y1 - x1*y0\n",
    "      f12 = (y1-y2)*x + (x2-x1)*y + x1*y2 - x2*y1\n",
    "      f20 = (y2-y0)*x + (x0-x2)*y + x2*y0 - x0*y2\n",
    "      f01a = (y0-y1)*x2 + (x1-x0)*y2 + x0*y1 - x1*y0\n",
    "      f12a = (y1-y2)*x0 + (x2-x1)*y0 + x1*y2 - x2*y1\n",
    "      f20a = (y2-y0)*x1 + (x0-x2)*y1 + x2*y0 - x0*y2\n",
    "      alpha = f12/f12a\n",
    "      beta = f20/f20a\n",
    "      gamma = f01/f01a\n",
    "      z_at_pixel = alpha * dat['v0']['v'][2] + beta * dat['v1']['v'][2] + gamma * dat['v2']['v'][2]\n",
    "      if(alpha >= 0 and beta >=0 and gamma >= 0):\n",
    "        if(x >= 0 and y >= 0 and x < 256 and y < 256):\n",
    "          if z_at_pixel < z_buffer[x][y]:\n",
    "            img.putpixel((x,y),col)\n",
    "            z_buffer[x][y] = z_at_pixel\n",
    "display(img)\n"
   ]
  }
 ],
 "metadata": {
  "interpreter": {
   "hash": "02f40e60d27df535d69700d11391bd301ba6ca6bbc9c57c1b82559559f0776c7"
  },
  "kernelspec": {
   "display_name": "Python 3.9.5 ('base')",
   "language": "python",
   "name": "python3"
  },
  "language_info": {
   "codemirror_mode": {
    "name": "ipython",
    "version": 3
   },
   "file_extension": ".py",
   "mimetype": "text/x-python",
   "name": "python",
   "nbconvert_exporter": "python",
   "pygments_lexer": "ipython3",
   "version": "3.9.5"
  },
  "orig_nbformat": 4
 },
 "nbformat": 4,
 "nbformat_minor": 2
}
